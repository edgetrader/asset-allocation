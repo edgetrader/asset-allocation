{
 "cells": [
  {
   "cell_type": "code",
   "execution_count": 14,
   "metadata": {},
   "outputs": [],
   "source": [
    "import numpy as np\n",
    "import pandas as pd\n",
    "\n",
    "# Import the plotting library\n",
    "import matplotlib.pyplot as plt\n",
    "%matplotlib inline\n",
    "\n",
    "import seaborn as sns; sns.set()\n",
    "plt.style.use('ggplot')"
   ]
  },
  {
   "cell_type": "code",
   "execution_count": 13,
   "metadata": {},
   "outputs": [],
   "source": [
    "import warnings\n",
    "warnings.filterwarnings(\"ignore\", category=FutureWarning)\n",
    "\n",
    "import sys  \n",
    "sys.path.append('../src') \n",
    "from edge import *"
   ]
  },
  {
   "cell_type": "code",
   "execution_count": 42,
   "metadata": {},
   "outputs": [
    {
     "name": "stdout",
     "output_type": "stream",
     "text": [
      "[*********************100%***********************]  3 of 3 completed\n"
     ]
    }
   ],
   "source": [
    "## Please select more than 2 tickers\n",
    "tickers = ['D05.SI','U11.SI','O39.SI']\n",
    "\n",
    "import yfinance as yf\n",
    "\n",
    "tickerlist = {}\n",
    "for ticker in tickers:\n",
    "    try:\n",
    "        tickerlist[ticker] = yf.Ticker(ticker).info['shortName']\n",
    "    except:\n",
    "        tickerlist[ticker] = ticker.replace('.SI','')\n",
    "    \n",
    "data = yf.download(tickers, start=\"2015-01-01\", end=\"2020-03-31\")"
   ]
  },
  {
   "cell_type": "code",
   "execution_count": 45,
   "metadata": {},
   "outputs": [],
   "source": [
    "prices = data['2018':'2020']['Adj Close'][tickers]\n",
    "returns = prices.pct_change().dropna()\n",
    "cum_returns = ((1 + returns).cumprod()-1) \n",
    "prices.to_csv('prices.csv')"
   ]
  },
  {
   "cell_type": "code",
   "execution_count": 46,
   "metadata": {},
   "outputs": [
    {
     "name": "stdout",
     "output_type": "stream",
     "text": [
      "84% Daily VaR - D05.SI    1.169460\n",
      "U11.SI    1.156189\n",
      "O39.SI    1.110721\n",
      "dtype: float64\n",
      "90% Daily VaR - D05.SI    1.499247\n",
      "U11.SI    1.482235\n",
      "O39.SI    1.423945\n",
      "dtype: float64\n",
      "95% Daily VaR - D05.SI    1.923761\n",
      "U11.SI    1.901932\n",
      "O39.SI    1.827137\n",
      "dtype: float64\n",
      "97.5% Daily VaR - D05.SI    2.292141\n",
      "U11.SI    2.266131\n",
      "O39.SI    2.177014\n",
      "dtype: float64\n",
      "99% Daily VaR - D05.SI    2.720163\n",
      "U11.SI    2.689297\n",
      "O39.SI    2.583538\n",
      "dtype: float64\n"
     ]
    }
   ],
   "source": [
    "print('84% Daily VaR - {}'.format(returns.std()*100))\n",
    "print('90% Daily VaR - {}'.format(returns.std()*100*1.282))\n",
    "print('95% Daily VaR - {}'.format(returns.std()*100*1.645))\n",
    "print('97.5% Daily VaR - {}'.format(returns.std()*100*1.96))\n",
    "print('99% Daily VaR - {}'.format(returns.std()*100*2.326))\n"
   ]
  },
  {
   "cell_type": "code",
   "execution_count": 32,
   "metadata": {},
   "outputs": [
    {
     "data": {
      "text/html": [
       "<style  type=\"text/css\" >\n",
       "    #T_2283088a_6445_11ea_9048_88e9fe540a38row0_col0 {\n",
       "            width:  10em;\n",
       "             height:  80%;\n",
       "            background:  linear-gradient(90deg, transparent 50.0%, lightgreen 50.0%, lightgreen 100.0%, transparent 100.0%);\n",
       "        }    #T_2283088a_6445_11ea_9048_88e9fe540a38row0_col1 {\n",
       "            width:  10em;\n",
       "             height:  80%;\n",
       "            background:  linear-gradient(90deg, transparent 50.0%, lightgreen 50.0%, lightgreen 100.0%, transparent 100.0%);\n",
       "        }    #T_2283088a_6445_11ea_9048_88e9fe540a38row0_col2 {\n",
       "            width:  10em;\n",
       "             height:  80%;\n",
       "            background:  linear-gradient(90deg, transparent 50.0%, lightgreen 50.0%, lightgreen 100.0%, transparent 100.0%);\n",
       "        }    #T_2283088a_6445_11ea_9048_88e9fe540a38row1_col0 {\n",
       "            width:  10em;\n",
       "             height:  80%;\n",
       "            background:  linear-gradient(90deg, transparent 50.0%, lightgreen 50.0%, lightgreen 77.1%, transparent 77.1%);\n",
       "        }    #T_2283088a_6445_11ea_9048_88e9fe540a38row1_col1 {\n",
       "            width:  10em;\n",
       "             height:  80%;\n",
       "            background:  linear-gradient(90deg, transparent 50.0%, lightgreen 50.0%, lightgreen 99.4%, transparent 99.4%);\n",
       "        }    #T_2283088a_6445_11ea_9048_88e9fe540a38row1_col2 {\n",
       "            width:  10em;\n",
       "             height:  80%;\n",
       "            background:  linear-gradient(90deg, transparent 50.0%, lightgreen 50.0%, lightgreen 77.4%, transparent 77.4%);\n",
       "        }    #T_2283088a_6445_11ea_9048_88e9fe540a38row2_col0 {\n",
       "            width:  10em;\n",
       "             height:  80%;\n",
       "            background:  linear-gradient(90deg, transparent 41.4%, lightred 41.4%, lightred 50.0%, transparent 50.0%);\n",
       "        }    #T_2283088a_6445_11ea_9048_88e9fe540a38row2_col1 {\n",
       "            width:  10em;\n",
       "             height:  80%;\n",
       "            background:  linear-gradient(90deg, transparent 50.0%, lightgreen 50.0%, lightgreen 97.6%, transparent 97.6%);\n",
       "        }    #T_2283088a_6445_11ea_9048_88e9fe540a38row2_col2 {\n",
       "            width:  10em;\n",
       "             height:  80%;\n",
       "            background:  linear-gradient(90deg, transparent 40.9%, lightred 40.9%, lightred 50.0%, transparent 50.0%);\n",
       "        }</style><table id=\"T_2283088a_6445_11ea_9048_88e9fe540a38\" ><thead>    <tr>        <th class=\"blank level0\" ></th>        <th class=\"col_heading level0 col0\" >Annualised Return (%)</th>        <th class=\"col_heading level0 col1\" >Annualised Volatility (%)</th>        <th class=\"col_heading level0 col2\" >Sharpe Ratio</th>    </tr>    <tr>        <th class=\"index_name level0\" >index</th>        <th class=\"blank\" ></th>        <th class=\"blank\" ></th>        <th class=\"blank\" ></th>    </tr></thead><tbody>\n",
       "                <tr>\n",
       "                        <th id=\"T_2283088a_6445_11ea_9048_88e9fe540a38level0_row0\" class=\"row_heading level0 row0\" >D05.SI</th>\n",
       "                        <td id=\"T_2283088a_6445_11ea_9048_88e9fe540a38row0_col0\" class=\"data row0 col0\" >7.80943</td>\n",
       "                        <td id=\"T_2283088a_6445_11ea_9048_88e9fe540a38row0_col1\" class=\"data row0 col1\" >17.7</td>\n",
       "                        <td id=\"T_2283088a_6445_11ea_9048_88e9fe540a38row0_col2\" class=\"data row0 col2\" >0.441211</td>\n",
       "            </tr>\n",
       "            <tr>\n",
       "                        <th id=\"T_2283088a_6445_11ea_9048_88e9fe540a38level0_row1\" class=\"row_heading level0 row1\" >U11.SI</th>\n",
       "                        <td id=\"T_2283088a_6445_11ea_9048_88e9fe540a38row1_col0\" class=\"data row1 col0\" >4.22679</td>\n",
       "                        <td id=\"T_2283088a_6445_11ea_9048_88e9fe540a38row1_col1\" class=\"data row1 col1\" >17.4819</td>\n",
       "                        <td id=\"T_2283088a_6445_11ea_9048_88e9fe540a38row1_col2\" class=\"data row1 col2\" >0.241781</td>\n",
       "            </tr>\n",
       "            <tr>\n",
       "                        <th id=\"T_2283088a_6445_11ea_9048_88e9fe540a38level0_row2\" class=\"row_heading level0 row2\" >O39.SI</th>\n",
       "                        <td id=\"T_2283088a_6445_11ea_9048_88e9fe540a38row2_col0\" class=\"data row2 col0\" >-1.345</td>\n",
       "                        <td id=\"T_2283088a_6445_11ea_9048_88e9fe540a38row2_col1\" class=\"data row2 col1\" >16.8369</td>\n",
       "                        <td id=\"T_2283088a_6445_11ea_9048_88e9fe540a38row2_col2\" class=\"data row2 col2\" >-0.0798841</td>\n",
       "            </tr>\n",
       "    </tbody></table>"
      ],
      "text/plain": [
       "<pandas.io.formats.style.Styler at 0x129f1d5d0>"
      ]
     },
     "execution_count": 32,
     "metadata": {},
     "output_type": "execute_result"
    }
   ],
   "source": [
    "prettyAnalytics(returns, tickers)"
   ]
  },
  {
   "cell_type": "markdown",
   "metadata": {},
   "source": [
    "# PyPortfolioOpt"
   ]
  },
  {
   "cell_type": "code",
   "execution_count": 9,
   "metadata": {},
   "outputs": [],
   "source": [
    "# !pip install PyPortfolioOpt\n",
    "\n",
    "# Import the packages \n",
    "from pypfopt import risk_models\n",
    "from pypfopt import expected_returns\n",
    "from pypfopt.efficient_frontier import EfficientFrontier"
   ]
  },
  {
   "cell_type": "code",
   "execution_count": 10,
   "metadata": {},
   "outputs": [],
   "source": [
    "prices = pd.read_csv(\"prices.csv\", parse_dates=['Date'], index_col='Date')"
   ]
  },
  {
   "cell_type": "code",
   "execution_count": 11,
   "metadata": {},
   "outputs": [
    {
     "data": {
      "text/plain": [
       "D05.SI   -0.038807\n",
       "U11.SI   -0.073293\n",
       "dtype: float64"
      ]
     },
     "execution_count": 11,
     "metadata": {},
     "output_type": "execute_result"
    }
   ],
   "source": [
    "# Calculate expected returns\n",
    "expected_returns_daily = expected_returns.mean_historical_return(prices)\n",
    "expected_returns_daily"
   ]
  },
  {
   "cell_type": "code",
   "execution_count": 12,
   "metadata": {},
   "outputs": [],
   "source": [
    "# Calculate the covariance matrix\n",
    "covariance_matrix = risk_models.sample_cov(prices)"
   ]
  },
  {
   "cell_type": "code",
   "execution_count": 106,
   "metadata": {},
   "outputs": [],
   "source": [
    "# Obtain the efficient frontier\n",
    "ef = EfficientFrontier(expected_returns_daily, covariance_matrix)"
   ]
  },
  {
   "cell_type": "code",
   "execution_count": 107,
   "metadata": {},
   "outputs": [
    {
     "name": "stdout",
     "output_type": "stream",
     "text": [
      "Weights: {'AGG': 0.71394, 'SPY': 0.03533, 'GLD': 0.0, 'HYG': 0.25073}\n",
      "Expected annual return: 5.0%\n",
      "Annual volatility: 2.5%\n",
      "Sharpe Ratio: 1.96\n"
     ]
    },
    {
     "data": {
      "text/plain": [
       "(0.04959225286374169, 0.02533414791276617, 1.9575259856579421)"
      ]
     },
     "execution_count": 107,
     "metadata": {},
     "output_type": "execute_result"
    }
   ],
   "source": [
    "# Select a chosen optimal portfolio\n",
    "ef.max_sharpe(risk_free_rate=0.00)\n",
    "print('Weights: {}'.format(ef.clean_weights()))\n",
    "# Obtain the performance numbers\n",
    "ef.portfolio_performance(verbose=True, risk_free_rate = 0.00)"
   ]
  },
  {
   "cell_type": "code",
   "execution_count": 108,
   "metadata": {},
   "outputs": [
    {
     "name": "stdout",
     "output_type": "stream",
     "text": [
      "Weights: {'AGG': 0.58031, 'SPY': 0.0, 'GLD': 0.0, 'HYG': 0.41969}\n",
      "Expected annual return: 4.9%\n",
      "Annual volatility: 2.6%\n",
      "Sharpe Ratio: 1.91\n"
     ]
    },
    {
     "data": {
      "text/plain": [
       "(0.049063192755046475, 0.025729992079657774, 1.906848342710374)"
      ]
     },
     "execution_count": 108,
     "metadata": {},
     "output_type": "execute_result"
    }
   ],
   "source": [
    "# Select a chosen portfolio with minimal volatiliy\n",
    "ef.min_volatility()\n",
    "print('Weights: {}'.format(ef.clean_weights()))\n",
    "# Obtain the performance numbers\n",
    "ef.portfolio_performance(verbose=True, risk_free_rate = 0.00)"
   ]
  },
  {
   "cell_type": "code",
   "execution_count": 109,
   "metadata": {},
   "outputs": [],
   "source": [
    "def genEFdata(ef, vsteps=0.001, rf=0.00):\n",
    "    \n",
    "    RISK_FREE_RATE = rf\n",
    "\n",
    "    results = pd.DataFrame([])\n",
    "\n",
    "    min_vol = ef.min_volatility()\n",
    "    perf = ef.portfolio_performance(verbose=False, risk_free_rate = RISK_FREE_RATE)\n",
    "    perf_dict = {}\n",
    "    perf_dict['index'] = 'min_vol'\n",
    "    perf_dict['annual_return'] = perf[0]\n",
    "    perf_dict['annual_volatility'] = perf[1]\n",
    "    perf_dict['sharpe_ratio'] = perf[2]\n",
    "    results = results.append(perf_dict, ignore_index=True)\n",
    "    lower_bound = perf[1]\n",
    "\n",
    "    max_sharpe = ef.max_sharpe(risk_free_rate = RISK_FREE_RATE)\n",
    "    perf = ef.portfolio_performance(verbose=False, risk_free_rate = RISK_FREE_RATE)\n",
    "    perf_dict = {}\n",
    "    perf_dict['index'] = 'max_sharpe'\n",
    "    perf_dict['annual_return'] = perf[0]\n",
    "    perf_dict['annual_volatility'] = perf[1]\n",
    "    perf_dict['sharpe_ratio'] = perf[2]\n",
    "    results = results.append(perf_dict, ignore_index=True)\n",
    "    upper_bound = perf[1] * 2\n",
    "\n",
    "    count = 0\n",
    "    \n",
    "    lower_bound = 0\n",
    "    for vol in np.arange(lower_bound, upper_bound, vsteps):\n",
    "        try:\n",
    "            wgt = ef.efficient_risk(vol, risk_free_rate = RISK_FREE_RATE)\n",
    "            perf = ef.portfolio_performance(verbose=False, risk_free_rate = RISK_FREE_RATE)\n",
    "\n",
    "            count += 1\n",
    "            perf_dict = {}\n",
    "            perf_dict['index'] = 'calc_' + str(count)\n",
    "            perf_dict['annual_return'] = perf[0]\n",
    "            perf_dict['annual_volatility'] = perf[1]\n",
    "            perf_dict['sharpe_ratio'] = perf[2]\n",
    "\n",
    "            results = results.append(perf_dict, ignore_index=True)\n",
    "        except:\n",
    "            continue\n",
    "            \n",
    "    return results.set_index('index')"
   ]
  },
  {
   "cell_type": "code",
   "execution_count": 110,
   "metadata": {},
   "outputs": [],
   "source": [
    "ef_data = genEFdata(ef, vsteps=0.0005)"
   ]
  },
  {
   "cell_type": "code",
   "execution_count": 111,
   "metadata": {},
   "outputs": [
    {
     "data": {
      "text/html": [
       "<div>\n",
       "<style scoped>\n",
       "    .dataframe tbody tr th:only-of-type {\n",
       "        vertical-align: middle;\n",
       "    }\n",
       "\n",
       "    .dataframe tbody tr th {\n",
       "        vertical-align: top;\n",
       "    }\n",
       "\n",
       "    .dataframe thead th {\n",
       "        text-align: right;\n",
       "    }\n",
       "</style>\n",
       "<table border=\"1\" class=\"dataframe\">\n",
       "  <thead>\n",
       "    <tr style=\"text-align: right;\">\n",
       "      <th></th>\n",
       "      <th>annual_return</th>\n",
       "      <th>annual_volatility</th>\n",
       "      <th>sharpe_ratio</th>\n",
       "    </tr>\n",
       "    <tr>\n",
       "      <th>index</th>\n",
       "      <th></th>\n",
       "      <th></th>\n",
       "      <th></th>\n",
       "    </tr>\n",
       "  </thead>\n",
       "  <tbody>\n",
       "    <tr>\n",
       "      <th>calc_5</th>\n",
       "      <td>0.052312</td>\n",
       "      <td>0.027000</td>\n",
       "      <td>1.937499</td>\n",
       "    </tr>\n",
       "    <tr>\n",
       "      <th>calc_4</th>\n",
       "      <td>0.051576</td>\n",
       "      <td>0.026500</td>\n",
       "      <td>1.946276</td>\n",
       "    </tr>\n",
       "    <tr>\n",
       "      <th>calc_3</th>\n",
       "      <td>0.050782</td>\n",
       "      <td>0.026000</td>\n",
       "      <td>1.953146</td>\n",
       "    </tr>\n",
       "    <tr>\n",
       "      <th>calc_2</th>\n",
       "      <td>0.049907</td>\n",
       "      <td>0.025500</td>\n",
       "      <td>1.957146</td>\n",
       "    </tr>\n",
       "    <tr>\n",
       "      <th>max_sharpe</th>\n",
       "      <td>0.049592</td>\n",
       "      <td>0.025334</td>\n",
       "      <td>1.957526</td>\n",
       "    </tr>\n",
       "  </tbody>\n",
       "</table>\n",
       "</div>"
      ],
      "text/plain": [
       "            annual_return  annual_volatility  sharpe_ratio\n",
       "index                                                     \n",
       "calc_5           0.052312           0.027000      1.937499\n",
       "calc_4           0.051576           0.026500      1.946276\n",
       "calc_3           0.050782           0.026000      1.953146\n",
       "calc_2           0.049907           0.025500      1.957146\n",
       "max_sharpe       0.049592           0.025334      1.957526"
      ]
     },
     "execution_count": 111,
     "metadata": {},
     "output_type": "execute_result"
    }
   ],
   "source": [
    "ef_data.sort_values('sharpe_ratio').tail()"
   ]
  },
  {
   "cell_type": "code",
   "execution_count": 112,
   "metadata": {},
   "outputs": [
    {
     "data": {
      "text/html": [
       "<div>\n",
       "<style scoped>\n",
       "    .dataframe tbody tr th:only-of-type {\n",
       "        vertical-align: middle;\n",
       "    }\n",
       "\n",
       "    .dataframe tbody tr th {\n",
       "        vertical-align: top;\n",
       "    }\n",
       "\n",
       "    .dataframe thead th {\n",
       "        text-align: right;\n",
       "    }\n",
       "</style>\n",
       "<table border=\"1\" class=\"dataframe\">\n",
       "  <thead>\n",
       "    <tr style=\"text-align: right;\">\n",
       "      <th></th>\n",
       "      <th>annual_return</th>\n",
       "      <th>annual_volatility</th>\n",
       "      <th>sharpe_ratio</th>\n",
       "    </tr>\n",
       "    <tr>\n",
       "      <th>index</th>\n",
       "      <th></th>\n",
       "      <th></th>\n",
       "      <th></th>\n",
       "    </tr>\n",
       "  </thead>\n",
       "  <tbody>\n",
       "    <tr>\n",
       "      <th>calc_1</th>\n",
       "      <td>0.047441</td>\n",
       "      <td>0.024500</td>\n",
       "      <td>1.936377</td>\n",
       "    </tr>\n",
       "    <tr>\n",
       "      <th>max_sharpe</th>\n",
       "      <td>0.049592</td>\n",
       "      <td>0.025334</td>\n",
       "      <td>1.957526</td>\n",
       "    </tr>\n",
       "    <tr>\n",
       "      <th>calc_2</th>\n",
       "      <td>0.049907</td>\n",
       "      <td>0.025500</td>\n",
       "      <td>1.957146</td>\n",
       "    </tr>\n",
       "    <tr>\n",
       "      <th>min_vol</th>\n",
       "      <td>0.049063</td>\n",
       "      <td>0.025730</td>\n",
       "      <td>1.906848</td>\n",
       "    </tr>\n",
       "    <tr>\n",
       "      <th>calc_3</th>\n",
       "      <td>0.050782</td>\n",
       "      <td>0.026000</td>\n",
       "      <td>1.953146</td>\n",
       "    </tr>\n",
       "  </tbody>\n",
       "</table>\n",
       "</div>"
      ],
      "text/plain": [
       "            annual_return  annual_volatility  sharpe_ratio\n",
       "index                                                     \n",
       "calc_1           0.047441           0.024500      1.936377\n",
       "max_sharpe       0.049592           0.025334      1.957526\n",
       "calc_2           0.049907           0.025500      1.957146\n",
       "min_vol          0.049063           0.025730      1.906848\n",
       "calc_3           0.050782           0.026000      1.953146"
      ]
     },
     "execution_count": 112,
     "metadata": {},
     "output_type": "execute_result"
    }
   ],
   "source": [
    "ef_data.sort_values('annual_volatility').head()"
   ]
  },
  {
   "cell_type": "code",
   "execution_count": null,
   "metadata": {},
   "outputs": [],
   "source": []
  },
  {
   "cell_type": "code",
   "execution_count": null,
   "metadata": {},
   "outputs": [],
   "source": []
  }
 ],
 "metadata": {
  "kernelspec": {
   "display_name": "Python 3",
   "language": "python",
   "name": "python3"
  },
  "language_info": {
   "codemirror_mode": {
    "name": "ipython",
    "version": 3
   },
   "file_extension": ".py",
   "mimetype": "text/x-python",
   "name": "python",
   "nbconvert_exporter": "python",
   "pygments_lexer": "ipython3",
   "version": "3.7.4"
  }
 },
 "nbformat": 4,
 "nbformat_minor": 2
}
